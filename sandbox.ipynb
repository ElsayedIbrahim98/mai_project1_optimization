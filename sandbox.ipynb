{
  "cells": [
    {
      "cell_type": "code",
      "execution_count": null,
      "metadata": {
        "id": "8cjegnAxprkr"
      },
      "outputs": [],
      "source": [
        "try:\n",
        "  import google.colab\n",
        "  IN_COLAB = True\n",
        "except:\n",
        "  IN_COLAB = False\n"
      ]
    },
    {
      "cell_type": "code",
      "execution_count": null,
      "metadata": {
        "id": "tP9as0SOE31z"
      },
      "outputs": [],
      "source": [
        "if IN_COLAB:\n",
        "    !git clone https://github.com/ElsayedIbrahim98/mai_project1_optimization"
      ]
    },
    {
      "cell_type": "code",
      "execution_count": null,
      "metadata": {
        "id": "7IUVrsIRE2l1"
      },
      "outputs": [],
      "source": [
        "if IN_COLAB:\n",
        "    !pip3 install -r mai_project1_optimization/requirements.txt"
      ]
    },
    {
      "cell_type": "code",
      "execution_count": null,
      "metadata": {
        "id": "wkD57Ur6E2l2"
      },
      "outputs": [],
      "source": [
        "import torch\n",
        "import torch.nn as nn\n",
        "import torch.optim as optim\n",
        "from torch.utils.data import DataLoader\n",
        "from torchvision import models\n",
        "from torchvision.models import *\n",
        "from plotly import express as px\n",
        "from collections import Counter\n",
        "import numpy as np\n",
        "import random\n",
        "import time\n",
        "\n",
        "if(IN_COLAB):\n",
        "    from mai_project1_optimization.modules.dataset import IntelImageClassificationDataset\n",
        "    from mai_project1_optimization.modules.utility import NotebookPlotter, InferenceSession, Evaluator, ISO_time\n",
        "    from mai_project1_optimization.modules.trainer import Trainer\n",
        "else:\n",
        "    from modules.dataset import IntelImageClassificationDataset\n",
        "    from modules.utility import NotebookPlotter, InferenceSession, Evaluator, ISO_time\n",
        "    from modules.trainer import Trainer\n",
        "\n",
        "torch.manual_seed(1)\n",
        "DEVICE = torch.device(\"cuda\" if torch.cuda.is_available() else \"cpu\")\n",
        "print(DEVICE)\n",
        "\n",
        "def set_seed(seed=1):\n",
        "    random.seed(seed)\n",
        "    np.random.seed(seed)\n",
        "    torch.manual_seed(seed)\n",
        "    torch.cuda.manual_seed_all(seed)\n",
        "    torch.backends.cudnn.deterministic = True  # for reproducibility\n",
        "    torch.backends.cudnn.benchmark = False\n",
        "\n",
        "# Removed support for Tensor Units\n",
        "# torch.backends.cudnn.allow_tf32 = True\n",
        "# torch.backends.cuda.matmul.allow_tf32 = True\n",
        "\n",
        "set_seed(1)"
      ]
    },
    {
      "cell_type": "code",
      "execution_count": null,
      "metadata": {
        "id": "2qrGa5z2prkx"
      },
      "outputs": [],
      "source": [
        "choice = 1 # 1,2,3\n",
        "freezeLayer = False\n",
        "\n",
        "if choice != 5:\n",
        "    dataset = IntelImageClassificationDataset(resize=(150,150))\n",
        "else:\n",
        "    dataset = IntelImageClassificationDataset(resize=(384,384))\n",
        "\n",
        "# SqueezeNet 1.1\n",
        "if choice == 1:\n",
        "    model = models.squeezenet1_1(weights=SqueezeNet1_1_Weights.DEFAULT)\n",
        "    num_features = model.classifier[1].in_channels\n",
        "    kernel_size = model.classifier[1].kernel_size\n",
        "    if(freezeLayer):\n",
        "        for param in model.parameters():\n",
        "            param.requires_grad = False\n",
        "    model.classifier[1] = nn.Conv2d(num_features, 6, kernel_size)\n",
        "\n",
        "\n",
        "# MobileNetV2\n",
        "elif choice == 2:\n",
        "    model = models.mobilenet_v2(weights=MobileNet_V2_Weights.DEFAULT)\n",
        "    num_features = model.classifier[1].in_features\n",
        "    if(freezeLayer):\n",
        "        for param in model.parameters():\n",
        "            param.requires_grad = False\n",
        "    model.classifier[1] = nn.Linear(num_features, 6)\n",
        "\n",
        "# MobileNetV3 Small\n",
        "elif choice == 3:\n",
        "    model = models.mobilenet_v3_small(weights=MobileNet_V3_Small_Weights.DEFAULT)\n",
        "    num_features = model.classifier[3].in_features\n",
        "    if(freezeLayer):\n",
        "        for param in model.parameters():\n",
        "            param.requires_grad = False\n",
        "    model.classifier[3] = nn.Linear(num_features, 6)\n",
        "\n",
        "# MobileNetV3 Large\n",
        "elif choice == 4:\n",
        "    model = models.mobilenet_v3_large(weights=MobileNet_V3_Large_Weights.DEFAULT)\n",
        "    num_features = model.classifier[3].in_features\n",
        "    if(freezeLayer):\n",
        "        for param in model.parameters():\n",
        "            param.requires_grad = False\n",
        "    model.classifier[3] = nn.Linear(num_features, 6)\n",
        "\n",
        "# VisionTransformer Base 16\n",
        "elif choice == 5:\n",
        "    model = models.vit_b_16(weights=ViT_B_16_Weights.IMAGENET1K_SWAG_E2E_V1)\n",
        "    num_features = model.heads[0].in_features\n",
        "    if(freezeLayer):\n",
        "        for param in model.parameters():\n",
        "            param.requires_grad = False\n",
        "    model.heads[0] = nn.Linear(num_features, 6)\n",
        "\n",
        "\n",
        "\n",
        "dataloader = DataLoader(dataset.train_dataset, batch_size=128, shuffle=True)\n",
        "trainer = Trainer(model=model, lr=0.001)"
      ]
    },
    {
      "cell_type": "code",
      "execution_count": null,
      "metadata": {
        "id": "XW3sIV9KE2l4"
      },
      "outputs": [],
      "source": [
        "\n",
        "start_train = time.time()\n",
        "trainer.train(dataloader, epochs=10)\n",
        "end_train = time.time()\n",
        "training_time = end_train - start_train\n"
      ]
    },
    {
      "cell_type": "code",
      "execution_count": null,
      "metadata": {
        "id": "VESPNHBME2l4"
      },
      "outputs": [],
      "source": [
        "session = InferenceSession(model)\n",
        "output = session(torch.stack(tuple(item[0] for item in dataset.test_dataset)))\n",
        "Evaluator.acc(output, torch.tensor(tuple(item[1] for item in dataset.test_dataset))).item()"
      ]
    },
    {
      "cell_type": "code",
      "source": [
        "session = InferenceSession(model)\n",
        "\n",
        "# Inference output (already done in your notebook)\n",
        "start_infer = time.time()\n",
        "preds = session(torch.stack([item[0] for item in dataset.test_dataset]))\n",
        "end_infer = time.time()\n",
        "inference_time = end_infer - start_infer\n",
        "true_labels = torch.tensor([item[1] for item in dataset.test_dataset])\n",
        "\n",
        "# Classification Metrics\n",
        "accuracy = Evaluator.acc(preds, true_labels).item()\n",
        "precision = Evaluator.ppv(preds, true_labels).item()\n",
        "recall = Evaluator.tpr(preds, true_labels).item()\n",
        "f1 = Evaluator.f1_score(preds, true_labels).item()\n"
      ],
      "metadata": {
        "id": "EgOJMua_Iui-"
      },
      "execution_count": null,
      "outputs": []
    },
    {
      "cell_type": "code",
      "source": [
        "def get_memory_usage():\n",
        "    import psutil, os\n",
        "    process = psutil.Process(os.getpid())\n",
        "    return process.memory_info().rss / 1e6  # in MB\n",
        "\n",
        "training_memory = get_memory_usage()"
      ],
      "metadata": {
        "id": "QH3al2LxJ3nT"
      },
      "execution_count": null,
      "outputs": []
    },
    {
      "cell_type": "code",
      "source": [
        "import pandas as pd\n",
        "from pathlib import Path\n",
        "\n",
        "results = {\n",
        "    \"Experiment\": \"pin_memory + num_workers\",  # customize for each run\n",
        "    \"Training Time (s)\": round(training_time, 2),\n",
        "    \"Inference Time (s)\": round(inference_time, 2),\n",
        "    \"Memory Usage (MB)\": round(training_memory, 2),\n",
        "    \"Accuracy\": round(accuracy, 4),\n",
        "    \"Precision\": round(precision, 4),\n",
        "    \"Recall\": round(recall, 4),\n",
        "    \"F1 Score\": round(f1, 4)\n",
        "}\n",
        "\n",
        "# Convert to DataFrame\n",
        "results_df = pd.DataFrame([results])\n",
        "\n",
        "# Append to CSV (create if it doesn't exist)\n",
        "csv_path = \"/content/optimization_report.csv\"\n",
        "results_df.to_csv(csv_path, mode='a', header=not Path(csv_path).exists(), index=False)\n",
        "\n",
        "print(f\"✅ Results saved to: {csv_path}\")"
      ],
      "metadata": {
        "id": "8jBEjRJHKDQv"
      },
      "execution_count": null,
      "outputs": []
    }
  ],
  "metadata": {
    "colab": {
      "provenance": [],
      "gpuType": "T4"
    },
    "kernelspec": {
      "display_name": "Python 3",
      "name": "python3"
    },
    "language_info": {
      "codemirror_mode": {
        "name": "ipython",
        "version": 3
      },
      "file_extension": ".py",
      "mimetype": "text/x-python",
      "name": "python",
      "nbconvert_exporter": "python",
      "pygments_lexer": "ipython3",
      "version": "3.10.11"
    },
    "accelerator": "GPU"
  },
  "nbformat": 4,
  "nbformat_minor": 0
}