{
  "cells": [
    {
      "cell_type": "code",
      "execution_count": 1,
      "metadata": {
        "id": "8cjegnAxprkr"
      },
      "outputs": [],
      "source": [
        "try:\n",
        "  import google.colab\n",
        "  IN_COLAB = True\n",
        "except:\n",
        "  IN_COLAB = False\n"
      ]
    },
    {
      "cell_type": "code",
      "execution_count": 2,
      "metadata": {
        "id": "tP9as0SOE31z",
        "colab": {
          "base_uri": "https://localhost:8080/"
        },
        "outputId": "153cb833-1638-40e1-821d-e29e200864e0"
      },
      "outputs": [
        {
          "output_type": "stream",
          "name": "stdout",
          "text": [
            "fatal: destination path 'mai_project1_optimization' already exists and is not an empty directory.\n"
          ]
        }
      ],
      "source": [
        "if IN_COLAB:\n",
        "    !git clone https://github.com/ElsayedIbrahim98/mai_project1_optimization"
      ]
    },
    {
      "cell_type": "code",
      "execution_count": 3,
      "metadata": {
        "id": "7IUVrsIRE2l1",
        "colab": {
          "base_uri": "https://localhost:8080/"
        },
        "outputId": "cc5e1aff-35ce-4d82-fc56-ac80337f4a08"
      },
      "outputs": [
        {
          "output_type": "stream",
          "name": "stdout",
          "text": [
            "Requirement already satisfied: numpy==1.24.4 in /usr/local/lib/python3.11/dist-packages (from -r mai_project1_optimization/requirements.txt (line 1)) (1.24.4)\n",
            "Requirement already satisfied: ipython in /usr/local/lib/python3.11/dist-packages (from -r mai_project1_optimization/requirements.txt (line 2)) (7.34.0)\n",
            "Requirement already satisfied: ipywidgets in /usr/local/lib/python3.11/dist-packages (from -r mai_project1_optimization/requirements.txt (line 3)) (7.7.1)\n",
            "Requirement already satisfied: kagglehub in /usr/local/lib/python3.11/dist-packages (from -r mai_project1_optimization/requirements.txt (line 4)) (0.3.12)\n",
            "Requirement already satisfied: plotly in /usr/local/lib/python3.11/dist-packages (from -r mai_project1_optimization/requirements.txt (line 5)) (5.24.1)\n",
            "Requirement already satisfied: torch in /usr/local/lib/python3.11/dist-packages (from -r mai_project1_optimization/requirements.txt (line 6)) (2.6.0+cu124)\n",
            "Requirement already satisfied: torchmetrics in /usr/local/lib/python3.11/dist-packages (from -r mai_project1_optimization/requirements.txt (line 7)) (1.7.1)\n",
            "Requirement already satisfied: torchvision in /usr/local/lib/python3.11/dist-packages (from -r mai_project1_optimization/requirements.txt (line 8)) (0.21.0+cu124)\n",
            "Requirement already satisfied: jupyter in /usr/local/lib/python3.11/dist-packages (from -r mai_project1_optimization/requirements.txt (line 9)) (1.1.1)\n",
            "Requirement already satisfied: pandas in /usr/local/lib/python3.11/dist-packages (from -r mai_project1_optimization/requirements.txt (line 10)) (2.2.2)\n",
            "Requirement already satisfied: torch_tb_profiler in /usr/local/lib/python3.11/dist-packages (from -r mai_project1_optimization/requirements.txt (line 11)) (0.4.3)\n",
            "Requirement already satisfied: tensorflow in /usr/local/lib/python3.11/dist-packages (from -r mai_project1_optimization/requirements.txt (line 12)) (2.17.1)\n",
            "Requirement already satisfied: gputil in /usr/local/lib/python3.11/dist-packages (from -r mai_project1_optimization/requirements.txt (line 13)) (1.4.0)\n",
            "Requirement already satisfied: nvidia-ml-py3 in /usr/local/lib/python3.11/dist-packages (from -r mai_project1_optimization/requirements.txt (line 14)) (7.352.0)\n",
            "Requirement already satisfied: setuptools>=18.5 in /usr/local/lib/python3.11/dist-packages (from ipython->-r mai_project1_optimization/requirements.txt (line 2)) (75.2.0)\n",
            "Requirement already satisfied: jedi>=0.16 in /usr/local/lib/python3.11/dist-packages (from ipython->-r mai_project1_optimization/requirements.txt (line 2)) (0.19.2)\n",
            "Requirement already satisfied: decorator in /usr/local/lib/python3.11/dist-packages (from ipython->-r mai_project1_optimization/requirements.txt (line 2)) (4.4.2)\n",
            "Requirement already satisfied: pickleshare in /usr/local/lib/python3.11/dist-packages (from ipython->-r mai_project1_optimization/requirements.txt (line 2)) (0.7.5)\n",
            "Requirement already satisfied: traitlets>=4.2 in /usr/local/lib/python3.11/dist-packages (from ipython->-r mai_project1_optimization/requirements.txt (line 2)) (5.7.1)\n",
            "Requirement already satisfied: prompt-toolkit!=3.0.0,!=3.0.1,<3.1.0,>=2.0.0 in /usr/local/lib/python3.11/dist-packages (from ipython->-r mai_project1_optimization/requirements.txt (line 2)) (3.0.51)\n",
            "Requirement already satisfied: pygments in /usr/local/lib/python3.11/dist-packages (from ipython->-r mai_project1_optimization/requirements.txt (line 2)) (2.19.1)\n",
            "Requirement already satisfied: backcall in /usr/local/lib/python3.11/dist-packages (from ipython->-r mai_project1_optimization/requirements.txt (line 2)) (0.2.0)\n",
            "Requirement already satisfied: matplotlib-inline in /usr/local/lib/python3.11/dist-packages (from ipython->-r mai_project1_optimization/requirements.txt (line 2)) (0.1.7)\n",
            "Requirement already satisfied: pexpect>4.3 in /usr/local/lib/python3.11/dist-packages (from ipython->-r mai_project1_optimization/requirements.txt (line 2)) (4.9.0)\n",
            "Requirement already satisfied: ipykernel>=4.5.1 in /usr/local/lib/python3.11/dist-packages (from ipywidgets->-r mai_project1_optimization/requirements.txt (line 3)) (6.17.1)\n",
            "Requirement already satisfied: ipython-genutils~=0.2.0 in /usr/local/lib/python3.11/dist-packages (from ipywidgets->-r mai_project1_optimization/requirements.txt (line 3)) (0.2.0)\n",
            "Requirement already satisfied: widgetsnbextension~=3.6.0 in /usr/local/lib/python3.11/dist-packages (from ipywidgets->-r mai_project1_optimization/requirements.txt (line 3)) (3.6.10)\n",
            "Requirement already satisfied: jupyterlab-widgets>=1.0.0 in /usr/local/lib/python3.11/dist-packages (from ipywidgets->-r mai_project1_optimization/requirements.txt (line 3)) (3.0.15)\n",
            "Requirement already satisfied: packaging in /usr/local/lib/python3.11/dist-packages (from kagglehub->-r mai_project1_optimization/requirements.txt (line 4)) (24.2)\n",
            "Requirement already satisfied: pyyaml in /usr/local/lib/python3.11/dist-packages (from kagglehub->-r mai_project1_optimization/requirements.txt (line 4)) (6.0.2)\n",
            "Requirement already satisfied: requests in /usr/local/lib/python3.11/dist-packages (from kagglehub->-r mai_project1_optimization/requirements.txt (line 4)) (2.32.3)\n",
            "Requirement already satisfied: tqdm in /usr/local/lib/python3.11/dist-packages (from kagglehub->-r mai_project1_optimization/requirements.txt (line 4)) (4.67.1)\n",
            "Requirement already satisfied: tenacity>=6.2.0 in /usr/local/lib/python3.11/dist-packages (from plotly->-r mai_project1_optimization/requirements.txt (line 5)) (9.1.2)\n",
            "Requirement already satisfied: filelock in /usr/local/lib/python3.11/dist-packages (from torch->-r mai_project1_optimization/requirements.txt (line 6)) (3.18.0)\n",
            "Requirement already satisfied: typing-extensions>=4.10.0 in /usr/local/lib/python3.11/dist-packages (from torch->-r mai_project1_optimization/requirements.txt (line 6)) (4.13.2)\n",
            "Requirement already satisfied: networkx in /usr/local/lib/python3.11/dist-packages (from torch->-r mai_project1_optimization/requirements.txt (line 6)) (3.4.2)\n",
            "Requirement already satisfied: jinja2 in /usr/local/lib/python3.11/dist-packages (from torch->-r mai_project1_optimization/requirements.txt (line 6)) (3.1.6)\n",
            "Requirement already satisfied: fsspec in /usr/local/lib/python3.11/dist-packages (from torch->-r mai_project1_optimization/requirements.txt (line 6)) (2025.3.2)\n",
            "Requirement already satisfied: nvidia-cuda-nvrtc-cu12==12.4.127 in /usr/local/lib/python3.11/dist-packages (from torch->-r mai_project1_optimization/requirements.txt (line 6)) (12.4.127)\n",
            "Requirement already satisfied: nvidia-cuda-runtime-cu12==12.4.127 in /usr/local/lib/python3.11/dist-packages (from torch->-r mai_project1_optimization/requirements.txt (line 6)) (12.4.127)\n",
            "Requirement already satisfied: nvidia-cuda-cupti-cu12==12.4.127 in /usr/local/lib/python3.11/dist-packages (from torch->-r mai_project1_optimization/requirements.txt (line 6)) (12.4.127)\n",
            "Requirement already satisfied: nvidia-cudnn-cu12==9.1.0.70 in /usr/local/lib/python3.11/dist-packages (from torch->-r mai_project1_optimization/requirements.txt (line 6)) (9.1.0.70)\n",
            "Requirement already satisfied: nvidia-cublas-cu12==12.4.5.8 in /usr/local/lib/python3.11/dist-packages (from torch->-r mai_project1_optimization/requirements.txt (line 6)) (12.4.5.8)\n",
            "Requirement already satisfied: nvidia-cufft-cu12==11.2.1.3 in /usr/local/lib/python3.11/dist-packages (from torch->-r mai_project1_optimization/requirements.txt (line 6)) (11.2.1.3)\n",
            "Requirement already satisfied: nvidia-curand-cu12==10.3.5.147 in /usr/local/lib/python3.11/dist-packages (from torch->-r mai_project1_optimization/requirements.txt (line 6)) (10.3.5.147)\n",
            "Requirement already satisfied: nvidia-cusolver-cu12==11.6.1.9 in /usr/local/lib/python3.11/dist-packages (from torch->-r mai_project1_optimization/requirements.txt (line 6)) (11.6.1.9)\n",
            "Requirement already satisfied: nvidia-cusparse-cu12==12.3.1.170 in /usr/local/lib/python3.11/dist-packages (from torch->-r mai_project1_optimization/requirements.txt (line 6)) (12.3.1.170)\n",
            "Requirement already satisfied: nvidia-cusparselt-cu12==0.6.2 in /usr/local/lib/python3.11/dist-packages (from torch->-r mai_project1_optimization/requirements.txt (line 6)) (0.6.2)\n",
            "Requirement already satisfied: nvidia-nccl-cu12==2.21.5 in /usr/local/lib/python3.11/dist-packages (from torch->-r mai_project1_optimization/requirements.txt (line 6)) (2.21.5)\n",
            "Requirement already satisfied: nvidia-nvtx-cu12==12.4.127 in /usr/local/lib/python3.11/dist-packages (from torch->-r mai_project1_optimization/requirements.txt (line 6)) (12.4.127)\n",
            "Requirement already satisfied: nvidia-nvjitlink-cu12==12.4.127 in /usr/local/lib/python3.11/dist-packages (from torch->-r mai_project1_optimization/requirements.txt (line 6)) (12.4.127)\n",
            "Requirement already satisfied: triton==3.2.0 in /usr/local/lib/python3.11/dist-packages (from torch->-r mai_project1_optimization/requirements.txt (line 6)) (3.2.0)\n",
            "Requirement already satisfied: sympy==1.13.1 in /usr/local/lib/python3.11/dist-packages (from torch->-r mai_project1_optimization/requirements.txt (line 6)) (1.13.1)\n",
            "Requirement already satisfied: mpmath<1.4,>=1.1.0 in /usr/local/lib/python3.11/dist-packages (from sympy==1.13.1->torch->-r mai_project1_optimization/requirements.txt (line 6)) (1.3.0)\n",
            "Requirement already satisfied: lightning-utilities>=0.8.0 in /usr/local/lib/python3.11/dist-packages (from torchmetrics->-r mai_project1_optimization/requirements.txt (line 7)) (0.14.3)\n",
            "Requirement already satisfied: pillow!=8.3.*,>=5.3.0 in /usr/local/lib/python3.11/dist-packages (from torchvision->-r mai_project1_optimization/requirements.txt (line 8)) (11.2.1)\n",
            "Requirement already satisfied: notebook in /usr/local/lib/python3.11/dist-packages (from jupyter->-r mai_project1_optimization/requirements.txt (line 9)) (6.5.7)\n",
            "Requirement already satisfied: jupyter-console in /usr/local/lib/python3.11/dist-packages (from jupyter->-r mai_project1_optimization/requirements.txt (line 9)) (6.1.0)\n",
            "Requirement already satisfied: nbconvert in /usr/local/lib/python3.11/dist-packages (from jupyter->-r mai_project1_optimization/requirements.txt (line 9)) (7.16.6)\n",
            "Requirement already satisfied: jupyterlab in /usr/local/lib/python3.11/dist-packages (from jupyter->-r mai_project1_optimization/requirements.txt (line 9)) (4.4.2)\n",
            "Requirement already satisfied: python-dateutil>=2.8.2 in /usr/local/lib/python3.11/dist-packages (from pandas->-r mai_project1_optimization/requirements.txt (line 10)) (2.9.0.post0)\n",
            "Requirement already satisfied: pytz>=2020.1 in /usr/local/lib/python3.11/dist-packages (from pandas->-r mai_project1_optimization/requirements.txt (line 10)) (2025.2)\n",
            "Requirement already satisfied: tzdata>=2022.7 in /usr/local/lib/python3.11/dist-packages (from pandas->-r mai_project1_optimization/requirements.txt (line 10)) (2025.2)\n",
            "Requirement already satisfied: tensorboard!=2.1.0,>=1.15 in /usr/local/lib/python3.11/dist-packages (from torch_tb_profiler->-r mai_project1_optimization/requirements.txt (line 11)) (2.17.1)\n",
            "Requirement already satisfied: absl-py>=1.0.0 in /usr/local/lib/python3.11/dist-packages (from tensorflow->-r mai_project1_optimization/requirements.txt (line 12)) (1.4.0)\n",
            "Requirement already satisfied: astunparse>=1.6.0 in /usr/local/lib/python3.11/dist-packages (from tensorflow->-r mai_project1_optimization/requirements.txt (line 12)) (1.6.3)\n",
            "Requirement already satisfied: flatbuffers>=24.3.25 in /usr/local/lib/python3.11/dist-packages (from tensorflow->-r mai_project1_optimization/requirements.txt (line 12)) (25.2.10)\n",
            "Requirement already satisfied: gast!=0.5.0,!=0.5.1,!=0.5.2,>=0.2.1 in /usr/local/lib/python3.11/dist-packages (from tensorflow->-r mai_project1_optimization/requirements.txt (line 12)) (0.6.0)\n",
            "Requirement already satisfied: google-pasta>=0.1.1 in /usr/local/lib/python3.11/dist-packages (from tensorflow->-r mai_project1_optimization/requirements.txt (line 12)) (0.2.0)\n",
            "Requirement already satisfied: h5py>=3.10.0 in /usr/local/lib/python3.11/dist-packages (from tensorflow->-r mai_project1_optimization/requirements.txt (line 12)) (3.13.0)\n",
            "Requirement already satisfied: libclang>=13.0.0 in /usr/local/lib/python3.11/dist-packages (from tensorflow->-r mai_project1_optimization/requirements.txt (line 12)) (18.1.1)\n",
            "Requirement already satisfied: ml-dtypes<0.5.0,>=0.3.1 in /usr/local/lib/python3.11/dist-packages (from tensorflow->-r mai_project1_optimization/requirements.txt (line 12)) (0.4.1)\n",
            "Requirement already satisfied: opt-einsum>=2.3.2 in /usr/local/lib/python3.11/dist-packages (from tensorflow->-r mai_project1_optimization/requirements.txt (line 12)) (3.4.0)\n",
            "Requirement already satisfied: protobuf!=4.21.0,!=4.21.1,!=4.21.2,!=4.21.3,!=4.21.4,!=4.21.5,<5.0.0dev,>=3.20.3 in /usr/local/lib/python3.11/dist-packages (from tensorflow->-r mai_project1_optimization/requirements.txt (line 12)) (4.25.7)\n",
            "Requirement already satisfied: six>=1.12.0 in /usr/local/lib/python3.11/dist-packages (from tensorflow->-r mai_project1_optimization/requirements.txt (line 12)) (1.17.0)\n",
            "Requirement already satisfied: termcolor>=1.1.0 in /usr/local/lib/python3.11/dist-packages (from tensorflow->-r mai_project1_optimization/requirements.txt (line 12)) (3.1.0)\n",
            "Requirement already satisfied: wrapt>=1.11.0 in /usr/local/lib/python3.11/dist-packages (from tensorflow->-r mai_project1_optimization/requirements.txt (line 12)) (1.17.2)\n",
            "Requirement already satisfied: grpcio<2.0,>=1.24.3 in /usr/local/lib/python3.11/dist-packages (from tensorflow->-r mai_project1_optimization/requirements.txt (line 12)) (1.71.0)\n",
            "Requirement already satisfied: keras>=3.2.0 in /usr/local/lib/python3.11/dist-packages (from tensorflow->-r mai_project1_optimization/requirements.txt (line 12)) (3.8.0)\n",
            "Requirement already satisfied: tensorflow-io-gcs-filesystem>=0.23.1 in /usr/local/lib/python3.11/dist-packages (from tensorflow->-r mai_project1_optimization/requirements.txt (line 12)) (0.37.1)\n",
            "Requirement already satisfied: wheel<1.0,>=0.23.0 in /usr/local/lib/python3.11/dist-packages (from astunparse>=1.6.0->tensorflow->-r mai_project1_optimization/requirements.txt (line 12)) (0.45.1)\n",
            "Requirement already satisfied: debugpy>=1.0 in /usr/local/lib/python3.11/dist-packages (from ipykernel>=4.5.1->ipywidgets->-r mai_project1_optimization/requirements.txt (line 3)) (1.8.0)\n",
            "Requirement already satisfied: jupyter-client>=6.1.12 in /usr/local/lib/python3.11/dist-packages (from ipykernel>=4.5.1->ipywidgets->-r mai_project1_optimization/requirements.txt (line 3)) (7.4.9)\n",
            "Requirement already satisfied: nest-asyncio in /usr/local/lib/python3.11/dist-packages (from ipykernel>=4.5.1->ipywidgets->-r mai_project1_optimization/requirements.txt (line 3)) (1.6.0)\n",
            "Requirement already satisfied: psutil in /usr/local/lib/python3.11/dist-packages (from ipykernel>=4.5.1->ipywidgets->-r mai_project1_optimization/requirements.txt (line 3)) (5.9.5)\n",
            "Requirement already satisfied: pyzmq>=17 in /usr/local/lib/python3.11/dist-packages (from ipykernel>=4.5.1->ipywidgets->-r mai_project1_optimization/requirements.txt (line 3)) (24.0.1)\n",
            "Requirement already satisfied: tornado>=6.1 in /usr/local/lib/python3.11/dist-packages (from ipykernel>=4.5.1->ipywidgets->-r mai_project1_optimization/requirements.txt (line 3)) (6.4.2)\n",
            "Requirement already satisfied: parso<0.9.0,>=0.8.4 in /usr/local/lib/python3.11/dist-packages (from jedi>=0.16->ipython->-r mai_project1_optimization/requirements.txt (line 2)) (0.8.4)\n",
            "Requirement already satisfied: rich in /usr/local/lib/python3.11/dist-packages (from keras>=3.2.0->tensorflow->-r mai_project1_optimization/requirements.txt (line 12)) (13.9.4)\n",
            "Requirement already satisfied: namex in /usr/local/lib/python3.11/dist-packages (from keras>=3.2.0->tensorflow->-r mai_project1_optimization/requirements.txt (line 12)) (0.0.9)\n",
            "Requirement already satisfied: optree in /usr/local/lib/python3.11/dist-packages (from keras>=3.2.0->tensorflow->-r mai_project1_optimization/requirements.txt (line 12)) (0.15.0)\n",
            "Requirement already satisfied: ptyprocess>=0.5 in /usr/local/lib/python3.11/dist-packages (from pexpect>4.3->ipython->-r mai_project1_optimization/requirements.txt (line 2)) (0.7.0)\n",
            "Requirement already satisfied: wcwidth in /usr/local/lib/python3.11/dist-packages (from prompt-toolkit!=3.0.0,!=3.0.1,<3.1.0,>=2.0.0->ipython->-r mai_project1_optimization/requirements.txt (line 2)) (0.2.13)\n",
            "Requirement already satisfied: charset-normalizer<4,>=2 in /usr/local/lib/python3.11/dist-packages (from requests->kagglehub->-r mai_project1_optimization/requirements.txt (line 4)) (3.4.2)\n",
            "Requirement already satisfied: idna<4,>=2.5 in /usr/local/lib/python3.11/dist-packages (from requests->kagglehub->-r mai_project1_optimization/requirements.txt (line 4)) (3.10)\n",
            "Requirement already satisfied: urllib3<3,>=1.21.1 in /usr/local/lib/python3.11/dist-packages (from requests->kagglehub->-r mai_project1_optimization/requirements.txt (line 4)) (2.4.0)\n",
            "Requirement already satisfied: certifi>=2017.4.17 in /usr/local/lib/python3.11/dist-packages (from requests->kagglehub->-r mai_project1_optimization/requirements.txt (line 4)) (2025.4.26)\n",
            "Requirement already satisfied: markdown>=2.6.8 in /usr/local/lib/python3.11/dist-packages (from tensorboard!=2.1.0,>=1.15->torch_tb_profiler->-r mai_project1_optimization/requirements.txt (line 11)) (3.8)\n",
            "Requirement already satisfied: tensorboard-data-server<0.8.0,>=0.7.0 in /usr/local/lib/python3.11/dist-packages (from tensorboard!=2.1.0,>=1.15->torch_tb_profiler->-r mai_project1_optimization/requirements.txt (line 11)) (0.7.2)\n",
            "Requirement already satisfied: werkzeug>=1.0.1 in /usr/local/lib/python3.11/dist-packages (from tensorboard!=2.1.0,>=1.15->torch_tb_profiler->-r mai_project1_optimization/requirements.txt (line 11)) (3.1.3)\n",
            "Requirement already satisfied: argon2-cffi in /usr/local/lib/python3.11/dist-packages (from notebook->jupyter->-r mai_project1_optimization/requirements.txt (line 9)) (23.1.0)\n",
            "Requirement already satisfied: jupyter-core>=4.6.1 in /usr/local/lib/python3.11/dist-packages (from notebook->jupyter->-r mai_project1_optimization/requirements.txt (line 9)) (5.7.2)\n",
            "Requirement already satisfied: nbformat in /usr/local/lib/python3.11/dist-packages (from notebook->jupyter->-r mai_project1_optimization/requirements.txt (line 9)) (5.10.4)\n",
            "Requirement already satisfied: Send2Trash>=1.8.0 in /usr/local/lib/python3.11/dist-packages (from notebook->jupyter->-r mai_project1_optimization/requirements.txt (line 9)) (1.8.3)\n",
            "Requirement already satisfied: terminado>=0.8.3 in /usr/local/lib/python3.11/dist-packages (from notebook->jupyter->-r mai_project1_optimization/requirements.txt (line 9)) (0.18.1)\n",
            "Requirement already satisfied: prometheus-client in /usr/local/lib/python3.11/dist-packages (from notebook->jupyter->-r mai_project1_optimization/requirements.txt (line 9)) (0.21.1)\n",
            "Requirement already satisfied: nbclassic>=0.4.7 in /usr/local/lib/python3.11/dist-packages (from notebook->jupyter->-r mai_project1_optimization/requirements.txt (line 9)) (1.3.1)\n",
            "Requirement already satisfied: beautifulsoup4 in /usr/local/lib/python3.11/dist-packages (from nbconvert->jupyter->-r mai_project1_optimization/requirements.txt (line 9)) (4.13.4)\n",
            "Requirement already satisfied: bleach!=5.0.0 in /usr/local/lib/python3.11/dist-packages (from bleach[css]!=5.0.0->nbconvert->jupyter->-r mai_project1_optimization/requirements.txt (line 9)) (6.2.0)\n",
            "Requirement already satisfied: defusedxml in /usr/local/lib/python3.11/dist-packages (from nbconvert->jupyter->-r mai_project1_optimization/requirements.txt (line 9)) (0.7.1)\n",
            "Requirement already satisfied: jupyterlab-pygments in /usr/local/lib/python3.11/dist-packages (from nbconvert->jupyter->-r mai_project1_optimization/requirements.txt (line 9)) (0.3.0)\n",
            "Requirement already satisfied: markupsafe>=2.0 in /usr/local/lib/python3.11/dist-packages (from nbconvert->jupyter->-r mai_project1_optimization/requirements.txt (line 9)) (3.0.2)\n",
            "Requirement already satisfied: mistune<4,>=2.0.3 in /usr/local/lib/python3.11/dist-packages (from nbconvert->jupyter->-r mai_project1_optimization/requirements.txt (line 9)) (3.1.3)\n",
            "Requirement already satisfied: nbclient>=0.5.0 in /usr/local/lib/python3.11/dist-packages (from nbconvert->jupyter->-r mai_project1_optimization/requirements.txt (line 9)) (0.10.2)\n",
            "Requirement already satisfied: pandocfilters>=1.4.1 in /usr/local/lib/python3.11/dist-packages (from nbconvert->jupyter->-r mai_project1_optimization/requirements.txt (line 9)) (1.5.1)\n",
            "Requirement already satisfied: async-lru>=1.0.0 in /usr/local/lib/python3.11/dist-packages (from jupyterlab->jupyter->-r mai_project1_optimization/requirements.txt (line 9)) (2.0.5)\n",
            "Requirement already satisfied: httpx>=0.25.0 in /usr/local/lib/python3.11/dist-packages (from jupyterlab->jupyter->-r mai_project1_optimization/requirements.txt (line 9)) (0.28.1)\n",
            "Requirement already satisfied: jupyter-lsp>=2.0.0 in /usr/local/lib/python3.11/dist-packages (from jupyterlab->jupyter->-r mai_project1_optimization/requirements.txt (line 9)) (2.2.5)\n",
            "Requirement already satisfied: jupyter-server<3,>=2.4.0 in /usr/local/lib/python3.11/dist-packages (from jupyterlab->jupyter->-r mai_project1_optimization/requirements.txt (line 9)) (2.16.0)\n",
            "Requirement already satisfied: jupyterlab-server<3,>=2.27.1 in /usr/local/lib/python3.11/dist-packages (from jupyterlab->jupyter->-r mai_project1_optimization/requirements.txt (line 9)) (2.27.3)\n",
            "Requirement already satisfied: notebook-shim>=0.2 in /usr/local/lib/python3.11/dist-packages (from jupyterlab->jupyter->-r mai_project1_optimization/requirements.txt (line 9)) (0.2.4)\n",
            "Requirement already satisfied: webencodings in /usr/local/lib/python3.11/dist-packages (from bleach!=5.0.0->bleach[css]!=5.0.0->nbconvert->jupyter->-r mai_project1_optimization/requirements.txt (line 9)) (0.5.1)\n",
            "Requirement already satisfied: tinycss2<1.5,>=1.1.0 in /usr/local/lib/python3.11/dist-packages (from bleach[css]!=5.0.0->nbconvert->jupyter->-r mai_project1_optimization/requirements.txt (line 9)) (1.4.0)\n",
            "Requirement already satisfied: anyio in /usr/local/lib/python3.11/dist-packages (from httpx>=0.25.0->jupyterlab->jupyter->-r mai_project1_optimization/requirements.txt (line 9)) (4.9.0)\n",
            "Requirement already satisfied: httpcore==1.* in /usr/local/lib/python3.11/dist-packages (from httpx>=0.25.0->jupyterlab->jupyter->-r mai_project1_optimization/requirements.txt (line 9)) (1.0.9)\n",
            "Requirement already satisfied: h11>=0.16 in /usr/local/lib/python3.11/dist-packages (from httpcore==1.*->httpx>=0.25.0->jupyterlab->jupyter->-r mai_project1_optimization/requirements.txt (line 9)) (0.16.0)\n",
            "Requirement already satisfied: entrypoints in /usr/local/lib/python3.11/dist-packages (from jupyter-client>=6.1.12->ipykernel>=4.5.1->ipywidgets->-r mai_project1_optimization/requirements.txt (line 3)) (0.4)\n",
            "Requirement already satisfied: platformdirs>=2.5 in /usr/local/lib/python3.11/dist-packages (from jupyter-core>=4.6.1->notebook->jupyter->-r mai_project1_optimization/requirements.txt (line 9)) (4.3.8)\n",
            "Requirement already satisfied: jupyter-events>=0.11.0 in /usr/local/lib/python3.11/dist-packages (from jupyter-server<3,>=2.4.0->jupyterlab->jupyter->-r mai_project1_optimization/requirements.txt (line 9)) (0.12.0)\n",
            "Requirement already satisfied: jupyter-server-terminals>=0.4.4 in /usr/local/lib/python3.11/dist-packages (from jupyter-server<3,>=2.4.0->jupyterlab->jupyter->-r mai_project1_optimization/requirements.txt (line 9)) (0.5.3)\n",
            "Requirement already satisfied: overrides>=5.0 in /usr/local/lib/python3.11/dist-packages (from jupyter-server<3,>=2.4.0->jupyterlab->jupyter->-r mai_project1_optimization/requirements.txt (line 9)) (7.7.0)\n",
            "Requirement already satisfied: websocket-client>=1.7 in /usr/local/lib/python3.11/dist-packages (from jupyter-server<3,>=2.4.0->jupyterlab->jupyter->-r mai_project1_optimization/requirements.txt (line 9)) (1.8.0)\n",
            "Requirement already satisfied: argon2-cffi-bindings in /usr/local/lib/python3.11/dist-packages (from argon2-cffi->notebook->jupyter->-r mai_project1_optimization/requirements.txt (line 9)) (21.2.0)\n",
            "Requirement already satisfied: babel>=2.10 in /usr/local/lib/python3.11/dist-packages (from jupyterlab-server<3,>=2.27.1->jupyterlab->jupyter->-r mai_project1_optimization/requirements.txt (line 9)) (2.17.0)\n",
            "Requirement already satisfied: json5>=0.9.0 in /usr/local/lib/python3.11/dist-packages (from jupyterlab-server<3,>=2.27.1->jupyterlab->jupyter->-r mai_project1_optimization/requirements.txt (line 9)) (0.12.0)\n",
            "Requirement already satisfied: jsonschema>=4.18.0 in /usr/local/lib/python3.11/dist-packages (from jupyterlab-server<3,>=2.27.1->jupyterlab->jupyter->-r mai_project1_optimization/requirements.txt (line 9)) (4.23.0)\n",
            "Requirement already satisfied: fastjsonschema>=2.15 in /usr/local/lib/python3.11/dist-packages (from nbformat->notebook->jupyter->-r mai_project1_optimization/requirements.txt (line 9)) (2.21.1)\n",
            "Requirement already satisfied: soupsieve>1.2 in /usr/local/lib/python3.11/dist-packages (from beautifulsoup4->nbconvert->jupyter->-r mai_project1_optimization/requirements.txt (line 9)) (2.7)\n",
            "Requirement already satisfied: markdown-it-py>=2.2.0 in /usr/local/lib/python3.11/dist-packages (from rich->keras>=3.2.0->tensorflow->-r mai_project1_optimization/requirements.txt (line 12)) (3.0.0)\n",
            "Requirement already satisfied: sniffio>=1.1 in /usr/local/lib/python3.11/dist-packages (from anyio->httpx>=0.25.0->jupyterlab->jupyter->-r mai_project1_optimization/requirements.txt (line 9)) (1.3.1)\n",
            "Requirement already satisfied: attrs>=22.2.0 in /usr/local/lib/python3.11/dist-packages (from jsonschema>=4.18.0->jupyterlab-server<3,>=2.27.1->jupyterlab->jupyter->-r mai_project1_optimization/requirements.txt (line 9)) (25.3.0)\n",
            "Requirement already satisfied: jsonschema-specifications>=2023.03.6 in /usr/local/lib/python3.11/dist-packages (from jsonschema>=4.18.0->jupyterlab-server<3,>=2.27.1->jupyterlab->jupyter->-r mai_project1_optimization/requirements.txt (line 9)) (2025.4.1)\n",
            "Requirement already satisfied: referencing>=0.28.4 in /usr/local/lib/python3.11/dist-packages (from jsonschema>=4.18.0->jupyterlab-server<3,>=2.27.1->jupyterlab->jupyter->-r mai_project1_optimization/requirements.txt (line 9)) (0.36.2)\n",
            "Requirement already satisfied: rpds-py>=0.7.1 in /usr/local/lib/python3.11/dist-packages (from jsonschema>=4.18.0->jupyterlab-server<3,>=2.27.1->jupyterlab->jupyter->-r mai_project1_optimization/requirements.txt (line 9)) (0.24.0)\n",
            "Requirement already satisfied: python-json-logger>=2.0.4 in /usr/local/lib/python3.11/dist-packages (from jupyter-events>=0.11.0->jupyter-server<3,>=2.4.0->jupyterlab->jupyter->-r mai_project1_optimization/requirements.txt (line 9)) (3.3.0)\n",
            "Requirement already satisfied: rfc3339-validator in /usr/local/lib/python3.11/dist-packages (from jupyter-events>=0.11.0->jupyter-server<3,>=2.4.0->jupyterlab->jupyter->-r mai_project1_optimization/requirements.txt (line 9)) (0.1.4)\n",
            "Requirement already satisfied: rfc3986-validator>=0.1.1 in /usr/local/lib/python3.11/dist-packages (from jupyter-events>=0.11.0->jupyter-server<3,>=2.4.0->jupyterlab->jupyter->-r mai_project1_optimization/requirements.txt (line 9)) (0.1.1)\n",
            "Requirement already satisfied: mdurl~=0.1 in /usr/local/lib/python3.11/dist-packages (from markdown-it-py>=2.2.0->rich->keras>=3.2.0->tensorflow->-r mai_project1_optimization/requirements.txt (line 12)) (0.1.2)\n",
            "Requirement already satisfied: cffi>=1.0.1 in /usr/local/lib/python3.11/dist-packages (from argon2-cffi-bindings->argon2-cffi->notebook->jupyter->-r mai_project1_optimization/requirements.txt (line 9)) (1.17.1)\n",
            "Requirement already satisfied: pycparser in /usr/local/lib/python3.11/dist-packages (from cffi>=1.0.1->argon2-cffi-bindings->argon2-cffi->notebook->jupyter->-r mai_project1_optimization/requirements.txt (line 9)) (2.22)\n",
            "Requirement already satisfied: fqdn in /usr/local/lib/python3.11/dist-packages (from jsonschema[format-nongpl]>=4.18.0->jupyter-events>=0.11.0->jupyter-server<3,>=2.4.0->jupyterlab->jupyter->-r mai_project1_optimization/requirements.txt (line 9)) (1.5.1)\n",
            "Requirement already satisfied: isoduration in /usr/local/lib/python3.11/dist-packages (from jsonschema[format-nongpl]>=4.18.0->jupyter-events>=0.11.0->jupyter-server<3,>=2.4.0->jupyterlab->jupyter->-r mai_project1_optimization/requirements.txt (line 9)) (20.11.0)\n",
            "Requirement already satisfied: jsonpointer>1.13 in /usr/local/lib/python3.11/dist-packages (from jsonschema[format-nongpl]>=4.18.0->jupyter-events>=0.11.0->jupyter-server<3,>=2.4.0->jupyterlab->jupyter->-r mai_project1_optimization/requirements.txt (line 9)) (3.0.0)\n",
            "Requirement already satisfied: uri-template in /usr/local/lib/python3.11/dist-packages (from jsonschema[format-nongpl]>=4.18.0->jupyter-events>=0.11.0->jupyter-server<3,>=2.4.0->jupyterlab->jupyter->-r mai_project1_optimization/requirements.txt (line 9)) (1.3.0)\n",
            "Requirement already satisfied: webcolors>=24.6.0 in /usr/local/lib/python3.11/dist-packages (from jsonschema[format-nongpl]>=4.18.0->jupyter-events>=0.11.0->jupyter-server<3,>=2.4.0->jupyterlab->jupyter->-r mai_project1_optimization/requirements.txt (line 9)) (24.11.1)\n",
            "Requirement already satisfied: arrow>=0.15.0 in /usr/local/lib/python3.11/dist-packages (from isoduration->jsonschema[format-nongpl]>=4.18.0->jupyter-events>=0.11.0->jupyter-server<3,>=2.4.0->jupyterlab->jupyter->-r mai_project1_optimization/requirements.txt (line 9)) (1.3.0)\n",
            "Requirement already satisfied: types-python-dateutil>=2.8.10 in /usr/local/lib/python3.11/dist-packages (from arrow>=0.15.0->isoduration->jsonschema[format-nongpl]>=4.18.0->jupyter-events>=0.11.0->jupyter-server<3,>=2.4.0->jupyterlab->jupyter->-r mai_project1_optimization/requirements.txt (line 9)) (2.9.0.20250516)\n"
          ]
        }
      ],
      "source": [
        "if IN_COLAB:\n",
        "    !pip3 install -r mai_project1_optimization/requirements.txt"
      ]
    },
    {
      "cell_type": "code",
      "execution_count": 4,
      "metadata": {
        "id": "wkD57Ur6E2l2",
        "colab": {
          "base_uri": "https://localhost:8080/"
        },
        "outputId": "69a0f301-160b-42a0-c487-23447858de96"
      },
      "outputs": [
        {
          "output_type": "stream",
          "name": "stdout",
          "text": [
            "cuda\n"
          ]
        }
      ],
      "source": [
        "import torch\n",
        "import torch.nn as nn\n",
        "import torch.optim as optim\n",
        "from torch.utils.data import DataLoader\n",
        "from torchvision import models\n",
        "from torchvision.models import *\n",
        "from plotly import express as px\n",
        "from collections import Counter\n",
        "import numpy as np\n",
        "import random\n",
        "import time\n",
        "import psutil\n",
        "import GPUtil\n",
        "import threading\n",
        "import time\n",
        "import csv\n",
        "from pynvml import *\n",
        "from google.colab import files\n",
        "import os\n",
        "from datetime import datetime\n",
        "\n",
        "if(IN_COLAB):\n",
        "    from mai_project1_optimization.modules.dataset import IntelImageClassificationDataset\n",
        "    from mai_project1_optimization.modules.utility import NotebookPlotter, InferenceSession, Evaluator, ISO_time\n",
        "    from mai_project1_optimization.modules.trainer import Trainer, MetricsTrainer\n",
        "else:\n",
        "    from modules.dataset import IntelImageClassificationDataset\n",
        "    from modules.utility import NotebookPlotter, InferenceSession, Evaluator, ISO_time\n",
        "    from modules.trainer import Trainer\n",
        "\n",
        "torch.manual_seed(1)\n",
        "DEVICE = torch.device(\"cuda\" if torch.cuda.is_available() else \"cpu\")\n",
        "print(DEVICE)\n",
        "\n",
        "def set_seed(seed=1):\n",
        "    random.seed(seed)\n",
        "    np.random.seed(seed)\n",
        "    torch.manual_seed(seed)\n",
        "    torch.cuda.manual_seed_all(seed)\n",
        "    torch.backends.cudnn.deterministic = True  # for reproducibility\n",
        "    torch.backends.cudnn.benchmark = False\n",
        "\n",
        "# Removed support for Tensor Units\n",
        "# torch.backends.cudnn.allow_tf32 = True\n",
        "# torch.backends.cuda.matmul.allow_tf32 = True\n",
        "\n",
        "set_seed(1)"
      ]
    },
    {
      "cell_type": "code",
      "source": [
        "def start_gpu_logger(filename=\"gpu_usage_log.csv\", interval=1, stop_event=None):\n",
        "    nvmlInit()\n",
        "    handle = nvmlDeviceGetHandleByIndex(0)\n",
        "\n",
        "    def log():\n",
        "        with open(filename, mode=\"w\", newline=\"\") as file:\n",
        "            writer = csv.writer(file)\n",
        "            writer.writerow([\"Time\", \"GPU Utilization (%)\", \"Memory Used (MB)\"])\n",
        "            while not stop_event.is_set():\n",
        "                util = nvmlDeviceGetUtilizationRates(handle)\n",
        "                mem = nvmlDeviceGetMemoryInfo(handle)\n",
        "                writer.writerow([\n",
        "                    datetime.now().strftime(\"%H:%M:%S\"),\n",
        "                    util.gpu,\n",
        "                    mem.used // 1024**2\n",
        "                ])\n",
        "                time.sleep(interval)\n",
        "        nvmlShutdown()\n",
        "\n",
        "    thread = threading.Thread(target=log)\n",
        "    thread.start()\n",
        "    return thread\n",
        "\n"
      ],
      "metadata": {
        "id": "ChOK7FldUx_3"
      },
      "execution_count": 5,
      "outputs": []
    },
    {
      "cell_type": "code",
      "execution_count": 6,
      "metadata": {
        "id": "2qrGa5z2prkx",
        "colab": {
          "base_uri": "https://localhost:8080/"
        },
        "outputId": "2e21df0d-bd5f-4e80-fa25-121feb66fed4"
      },
      "outputs": [
        {
          "output_type": "stream",
          "name": "stderr",
          "text": [
            "Downloading: \"https://download.pytorch.org/models/squeezenet1_1-b8a52dc0.pth\" to /root/.cache/torch/hub/checkpoints/squeezenet1_1-b8a52dc0.pth\n",
            "100%|██████████| 4.73M/4.73M [00:00<00:00, 29.2MB/s]\n"
          ]
        }
      ],
      "source": [
        "choice = 1 # 1,2,3\n",
        "freezeLayer = False\n",
        "\n",
        "if choice != 5:\n",
        "    dataset = IntelImageClassificationDataset(resize=(150,150))\n",
        "else:\n",
        "    dataset = IntelImageClassificationDataset(resize=(384,384))\n",
        "\n",
        "# SqueezeNet 1.1\n",
        "if choice == 1:\n",
        "    model = models.squeezenet1_1(weights=SqueezeNet1_1_Weights.DEFAULT)\n",
        "    num_features = model.classifier[1].in_channels\n",
        "    kernel_size = model.classifier[1].kernel_size\n",
        "    if(freezeLayer):\n",
        "        for param in model.parameters():\n",
        "            param.requires_grad = False\n",
        "    model.classifier[1] = nn.Conv2d(num_features, 6, kernel_size)\n",
        "\n",
        "\n",
        "\n",
        "\n",
        "dataloader = DataLoader(dataset.train_dataset, batch_size=128, shuffle=True, pin_memory=True)\n",
        "#, pin_memory=True if torch.cuda.is_available() else False\n",
        "#num_workers=2, prefetch_factor=2\n",
        "trainer = Trainer(model=model, lr=0.001)"
      ]
    },
    {
      "cell_type": "code",
      "execution_count": 7,
      "metadata": {
        "id": "XW3sIV9KE2l4",
        "colab": {
          "base_uri": "https://localhost:8080/",
          "height": 49,
          "referenced_widgets": [
            "2bac29c407ee47de910e73ae60b7f2a1",
            "abe187a8f111492a8d9e37d8f5277583",
            "31298a8fb26d44a2a28c7ff397577f61",
            "0c82e46460f7492f97f15b4999d254c7",
            "e240925aa63b49e298b3f72ed392faab",
            "b79e7053a00143b08c7eee2f493c6788",
            "609038e6768e469b8f7e6d0890844b28",
            "255181861fc646769825827a6244ffb0",
            "6c3bfae65e1c44868f8fd5b631b1bfeb",
            "32ff16899d4b466798bee7b03c3ab26b",
            "9bd32894c96c4e3da81123c657c4a5fb"
          ]
        },
        "outputId": "92305e2c-7483-446a-dcb8-825f7c8d6c90"
      },
      "outputs": [
        {
          "output_type": "display_data",
          "data": {
            "text/plain": [
              "  0%|          | 0/10 [00:00<?, ?it/s]"
            ],
            "application/vnd.jupyter.widget-view+json": {
              "version_major": 2,
              "version_minor": 0,
              "model_id": "2bac29c407ee47de910e73ae60b7f2a1"
            }
          },
          "metadata": {}
        },
        {
          "output_type": "display_data",
          "data": {
            "text/plain": [
              "<IPython.core.display.Javascript object>"
            ],
            "application/javascript": [
              "\n",
              "    async function download(id, filename, size) {\n",
              "      if (!google.colab.kernel.accessAllowed) {\n",
              "        return;\n",
              "      }\n",
              "      const div = document.createElement('div');\n",
              "      const label = document.createElement('label');\n",
              "      label.textContent = `Downloading \"${filename}\": `;\n",
              "      div.appendChild(label);\n",
              "      const progress = document.createElement('progress');\n",
              "      progress.max = size;\n",
              "      div.appendChild(progress);\n",
              "      document.body.appendChild(div);\n",
              "\n",
              "      const buffers = [];\n",
              "      let downloaded = 0;\n",
              "\n",
              "      const channel = await google.colab.kernel.comms.open(id);\n",
              "      // Send a message to notify the kernel that we're ready.\n",
              "      channel.send({})\n",
              "\n",
              "      for await (const message of channel.messages) {\n",
              "        // Send a message to notify the kernel that we're ready.\n",
              "        channel.send({})\n",
              "        if (message.buffers) {\n",
              "          for (const buffer of message.buffers) {\n",
              "            buffers.push(buffer);\n",
              "            downloaded += buffer.byteLength;\n",
              "            progress.value = downloaded;\n",
              "          }\n",
              "        }\n",
              "      }\n",
              "      const blob = new Blob(buffers, {type: 'application/binary'});\n",
              "      const a = document.createElement('a');\n",
              "      a.href = window.URL.createObjectURL(blob);\n",
              "      a.download = filename;\n",
              "      div.appendChild(a);\n",
              "      a.click();\n",
              "      div.remove();\n",
              "    }\n",
              "  "
            ]
          },
          "metadata": {}
        },
        {
          "output_type": "display_data",
          "data": {
            "text/plain": [
              "<IPython.core.display.Javascript object>"
            ],
            "application/javascript": [
              "download(\"download_f106f5c4-5bf9-4a19-a404-2fc761eec595\", \"gpu_usage_log.csv\", 4966)"
            ]
          },
          "metadata": {}
        }
      ],
      "source": [
        "# Step 1: Create the stop event\n",
        "stop_event = threading.Event()\n",
        "\n",
        "# Step 2: Start GPU logging\n",
        "gpu_log_thread = start_gpu_logger(\"gpu_usage_log.csv\", interval=1, stop_event=stop_event)\n",
        "\n",
        "start_train = time.time()\n",
        "trainer.train(dataloader=dataloader, epochs=10)\n",
        "end_train = time.time()\n",
        "training_time = end_train - start_train\n",
        "\n",
        "stop_event.set()\n",
        "gpu_log_thread.join()  # Ensure logging is done\n",
        "files.download(\"gpu_usage_log.csv\")\n"
      ]
    },
    {
      "cell_type": "code",
      "source": [
        "session = InferenceSession(model)\n",
        "\n",
        "# Inference output (already done in your notebook)\n",
        "start_infer = time.time()\n",
        "preds = session(torch.stack([item[0] for item in dataset.test_dataset]))\n",
        "end_infer = time.time()\n",
        "inference_time = end_infer - start_infer\n",
        "true_labels = torch.tensor([item[1] for item in dataset.test_dataset])\n",
        "\n",
        "# Classification Metrics\n",
        "accuracy = Evaluator.acc(preds, true_labels).item()\n",
        "precision = Evaluator.ppv(preds, true_labels).item()\n",
        "recall = Evaluator.tpr(preds, true_labels).item()\n",
        "f1 = Evaluator.f1_score(preds, true_labels).item()\n"
      ],
      "metadata": {
        "id": "EgOJMua_Iui-"
      },
      "execution_count": 8,
      "outputs": []
    },
    {
      "cell_type": "code",
      "source": [
        "def get_memory_usage():\n",
        "    import psutil, os\n",
        "    process = psutil.Process(os.getpid())\n",
        "    return process.memory_info().rss / 1e6  # in MB\n",
        "\n",
        "def get_gpu_utilization():\n",
        "    try:\n",
        "        gpus = GPUtil.getGPUs()\n",
        "        return gpus[0].load * 100  # First GPU\n",
        "    except:\n",
        "        return None\n",
        "\n",
        "def get_cpu_usage():\n",
        "    return psutil.cpu_percent(interval=1)\n",
        "\n",
        "training_memory = get_memory_usage()\n",
        "gpu_utilization = get_gpu_utilization()\n",
        "cpu_usage = get_cpu_usage()\n"
      ],
      "metadata": {
        "id": "QH3al2LxJ3nT"
      },
      "execution_count": 9,
      "outputs": []
    },
    {
      "cell_type": "code",
      "source": [
        "import pandas as pd\n",
        "from pathlib import Path\n",
        "\n",
        "results = {\n",
        "    \"Experiment\": \"pin_memory + num_workers\",  # customize for each run\n",
        "    \"Training Time (s)\": round(training_time, 2),\n",
        "    \"Inference Time (s)\": round(inference_time, 2),\n",
        "    \"Memory Usage (MB)\": round(training_memory, 2),\n",
        "    #\"GPU Utilization\": round(gpu_utilization, 2),\n",
        "    #\"CPU Usage\": round(cpu_usage, 2),\n",
        "    \"Accuracy\": round(accuracy, 4),\n",
        "    #\"Precision\": round(precision, 4),\n",
        "    #\"Recall\": round(recall, 4),\n",
        "    #\"F1 Score\": round(f1, 4),\n",
        "\n",
        "}\n",
        "\n",
        "# Convert to DataFrame\n",
        "results_df = pd.DataFrame([results])\n",
        "\n",
        "# Append to CSV (create if it doesn't exist)\n",
        "csv_path = \"/content/optimization_report.csv\"\n",
        "results_df.to_csv(csv_path, mode='a', header=not Path(csv_path).exists(), index=False)\n",
        "\n",
        "print(f\"✅ Results saved to: {csv_path}\")"
      ],
      "metadata": {
        "id": "8jBEjRJHKDQv",
        "colab": {
          "base_uri": "https://localhost:8080/"
        },
        "outputId": "de354b8b-d0a9-4f7d-ffe2-3656f6e04459"
      },
      "execution_count": 10,
      "outputs": [
        {
          "output_type": "stream",
          "name": "stdout",
          "text": [
            "✅ Results saved to: /content/optimization_report.csv\n"
          ]
        }
      ]
    }
  ],
  "metadata": {
    "colab": {
      "provenance": [],
      "gpuType": "T4"
    },
    "kernelspec": {
      "display_name": "Python 3",
      "name": "python3"
    },
    "language_info": {
      "codemirror_mode": {
        "name": "ipython",
        "version": 3
      },
      "file_extension": ".py",
      "mimetype": "text/x-python",
      "name": "python",
      "nbconvert_exporter": "python",
      "pygments_lexer": "ipython3",
      "version": "3.10.11"
    },
    "accelerator": "GPU",
    "widgets": {
      "application/vnd.jupyter.widget-state+json": {
        "2bac29c407ee47de910e73ae60b7f2a1": {
          "model_module": "@jupyter-widgets/controls",
          "model_name": "HBoxModel",
          "model_module_version": "1.5.0",
          "state": {
            "_dom_classes": [],
            "_model_module": "@jupyter-widgets/controls",
            "_model_module_version": "1.5.0",
            "_model_name": "HBoxModel",
            "_view_count": null,
            "_view_module": "@jupyter-widgets/controls",
            "_view_module_version": "1.5.0",
            "_view_name": "HBoxView",
            "box_style": "",
            "children": [
              "IPY_MODEL_abe187a8f111492a8d9e37d8f5277583",
              "IPY_MODEL_31298a8fb26d44a2a28c7ff397577f61",
              "IPY_MODEL_0c82e46460f7492f97f15b4999d254c7"
            ],
            "layout": "IPY_MODEL_e240925aa63b49e298b3f72ed392faab"
          }
        },
        "abe187a8f111492a8d9e37d8f5277583": {
          "model_module": "@jupyter-widgets/controls",
          "model_name": "HTMLModel",
          "model_module_version": "1.5.0",
          "state": {
            "_dom_classes": [],
            "_model_module": "@jupyter-widgets/controls",
            "_model_module_version": "1.5.0",
            "_model_name": "HTMLModel",
            "_view_count": null,
            "_view_module": "@jupyter-widgets/controls",
            "_view_module_version": "1.5.0",
            "_view_name": "HTMLView",
            "description": "",
            "description_tooltip": null,
            "layout": "IPY_MODEL_b79e7053a00143b08c7eee2f493c6788",
            "placeholder": "​",
            "style": "IPY_MODEL_609038e6768e469b8f7e6d0890844b28",
            "value": "100%"
          }
        },
        "31298a8fb26d44a2a28c7ff397577f61": {
          "model_module": "@jupyter-widgets/controls",
          "model_name": "FloatProgressModel",
          "model_module_version": "1.5.0",
          "state": {
            "_dom_classes": [],
            "_model_module": "@jupyter-widgets/controls",
            "_model_module_version": "1.5.0",
            "_model_name": "FloatProgressModel",
            "_view_count": null,
            "_view_module": "@jupyter-widgets/controls",
            "_view_module_version": "1.5.0",
            "_view_name": "ProgressView",
            "bar_style": "success",
            "description": "",
            "description_tooltip": null,
            "layout": "IPY_MODEL_255181861fc646769825827a6244ffb0",
            "max": 10,
            "min": 0,
            "orientation": "horizontal",
            "style": "IPY_MODEL_6c3bfae65e1c44868f8fd5b631b1bfeb",
            "value": 10
          }
        },
        "0c82e46460f7492f97f15b4999d254c7": {
          "model_module": "@jupyter-widgets/controls",
          "model_name": "HTMLModel",
          "model_module_version": "1.5.0",
          "state": {
            "_dom_classes": [],
            "_model_module": "@jupyter-widgets/controls",
            "_model_module_version": "1.5.0",
            "_model_name": "HTMLModel",
            "_view_count": null,
            "_view_module": "@jupyter-widgets/controls",
            "_view_module_version": "1.5.0",
            "_view_name": "HTMLView",
            "description": "",
            "description_tooltip": null,
            "layout": "IPY_MODEL_32ff16899d4b466798bee7b03c3ab26b",
            "placeholder": "​",
            "style": "IPY_MODEL_9bd32894c96c4e3da81123c657c4a5fb",
            "value": " 10/10 [04:36&lt;00:00, 21.97s/it]"
          }
        },
        "e240925aa63b49e298b3f72ed392faab": {
          "model_module": "@jupyter-widgets/base",
          "model_name": "LayoutModel",
          "model_module_version": "1.2.0",
          "state": {
            "_model_module": "@jupyter-widgets/base",
            "_model_module_version": "1.2.0",
            "_model_name": "LayoutModel",
            "_view_count": null,
            "_view_module": "@jupyter-widgets/base",
            "_view_module_version": "1.2.0",
            "_view_name": "LayoutView",
            "align_content": null,
            "align_items": null,
            "align_self": null,
            "border": null,
            "bottom": null,
            "display": null,
            "flex": null,
            "flex_flow": null,
            "grid_area": null,
            "grid_auto_columns": null,
            "grid_auto_flow": null,
            "grid_auto_rows": null,
            "grid_column": null,
            "grid_gap": null,
            "grid_row": null,
            "grid_template_areas": null,
            "grid_template_columns": null,
            "grid_template_rows": null,
            "height": null,
            "justify_content": null,
            "justify_items": null,
            "left": null,
            "margin": null,
            "max_height": null,
            "max_width": null,
            "min_height": null,
            "min_width": null,
            "object_fit": null,
            "object_position": null,
            "order": null,
            "overflow": null,
            "overflow_x": null,
            "overflow_y": null,
            "padding": null,
            "right": null,
            "top": null,
            "visibility": null,
            "width": null
          }
        },
        "b79e7053a00143b08c7eee2f493c6788": {
          "model_module": "@jupyter-widgets/base",
          "model_name": "LayoutModel",
          "model_module_version": "1.2.0",
          "state": {
            "_model_module": "@jupyter-widgets/base",
            "_model_module_version": "1.2.0",
            "_model_name": "LayoutModel",
            "_view_count": null,
            "_view_module": "@jupyter-widgets/base",
            "_view_module_version": "1.2.0",
            "_view_name": "LayoutView",
            "align_content": null,
            "align_items": null,
            "align_self": null,
            "border": null,
            "bottom": null,
            "display": null,
            "flex": null,
            "flex_flow": null,
            "grid_area": null,
            "grid_auto_columns": null,
            "grid_auto_flow": null,
            "grid_auto_rows": null,
            "grid_column": null,
            "grid_gap": null,
            "grid_row": null,
            "grid_template_areas": null,
            "grid_template_columns": null,
            "grid_template_rows": null,
            "height": null,
            "justify_content": null,
            "justify_items": null,
            "left": null,
            "margin": null,
            "max_height": null,
            "max_width": null,
            "min_height": null,
            "min_width": null,
            "object_fit": null,
            "object_position": null,
            "order": null,
            "overflow": null,
            "overflow_x": null,
            "overflow_y": null,
            "padding": null,
            "right": null,
            "top": null,
            "visibility": null,
            "width": null
          }
        },
        "609038e6768e469b8f7e6d0890844b28": {
          "model_module": "@jupyter-widgets/controls",
          "model_name": "DescriptionStyleModel",
          "model_module_version": "1.5.0",
          "state": {
            "_model_module": "@jupyter-widgets/controls",
            "_model_module_version": "1.5.0",
            "_model_name": "DescriptionStyleModel",
            "_view_count": null,
            "_view_module": "@jupyter-widgets/base",
            "_view_module_version": "1.2.0",
            "_view_name": "StyleView",
            "description_width": ""
          }
        },
        "255181861fc646769825827a6244ffb0": {
          "model_module": "@jupyter-widgets/base",
          "model_name": "LayoutModel",
          "model_module_version": "1.2.0",
          "state": {
            "_model_module": "@jupyter-widgets/base",
            "_model_module_version": "1.2.0",
            "_model_name": "LayoutModel",
            "_view_count": null,
            "_view_module": "@jupyter-widgets/base",
            "_view_module_version": "1.2.0",
            "_view_name": "LayoutView",
            "align_content": null,
            "align_items": null,
            "align_self": null,
            "border": null,
            "bottom": null,
            "display": null,
            "flex": null,
            "flex_flow": null,
            "grid_area": null,
            "grid_auto_columns": null,
            "grid_auto_flow": null,
            "grid_auto_rows": null,
            "grid_column": null,
            "grid_gap": null,
            "grid_row": null,
            "grid_template_areas": null,
            "grid_template_columns": null,
            "grid_template_rows": null,
            "height": null,
            "justify_content": null,
            "justify_items": null,
            "left": null,
            "margin": null,
            "max_height": null,
            "max_width": null,
            "min_height": null,
            "min_width": null,
            "object_fit": null,
            "object_position": null,
            "order": null,
            "overflow": null,
            "overflow_x": null,
            "overflow_y": null,
            "padding": null,
            "right": null,
            "top": null,
            "visibility": null,
            "width": null
          }
        },
        "6c3bfae65e1c44868f8fd5b631b1bfeb": {
          "model_module": "@jupyter-widgets/controls",
          "model_name": "ProgressStyleModel",
          "model_module_version": "1.5.0",
          "state": {
            "_model_module": "@jupyter-widgets/controls",
            "_model_module_version": "1.5.0",
            "_model_name": "ProgressStyleModel",
            "_view_count": null,
            "_view_module": "@jupyter-widgets/base",
            "_view_module_version": "1.2.0",
            "_view_name": "StyleView",
            "bar_color": null,
            "description_width": ""
          }
        },
        "32ff16899d4b466798bee7b03c3ab26b": {
          "model_module": "@jupyter-widgets/base",
          "model_name": "LayoutModel",
          "model_module_version": "1.2.0",
          "state": {
            "_model_module": "@jupyter-widgets/base",
            "_model_module_version": "1.2.0",
            "_model_name": "LayoutModel",
            "_view_count": null,
            "_view_module": "@jupyter-widgets/base",
            "_view_module_version": "1.2.0",
            "_view_name": "LayoutView",
            "align_content": null,
            "align_items": null,
            "align_self": null,
            "border": null,
            "bottom": null,
            "display": null,
            "flex": null,
            "flex_flow": null,
            "grid_area": null,
            "grid_auto_columns": null,
            "grid_auto_flow": null,
            "grid_auto_rows": null,
            "grid_column": null,
            "grid_gap": null,
            "grid_row": null,
            "grid_template_areas": null,
            "grid_template_columns": null,
            "grid_template_rows": null,
            "height": null,
            "justify_content": null,
            "justify_items": null,
            "left": null,
            "margin": null,
            "max_height": null,
            "max_width": null,
            "min_height": null,
            "min_width": null,
            "object_fit": null,
            "object_position": null,
            "order": null,
            "overflow": null,
            "overflow_x": null,
            "overflow_y": null,
            "padding": null,
            "right": null,
            "top": null,
            "visibility": null,
            "width": null
          }
        },
        "9bd32894c96c4e3da81123c657c4a5fb": {
          "model_module": "@jupyter-widgets/controls",
          "model_name": "DescriptionStyleModel",
          "model_module_version": "1.5.0",
          "state": {
            "_model_module": "@jupyter-widgets/controls",
            "_model_module_version": "1.5.0",
            "_model_name": "DescriptionStyleModel",
            "_view_count": null,
            "_view_module": "@jupyter-widgets/base",
            "_view_module_version": "1.2.0",
            "_view_name": "StyleView",
            "description_width": ""
          }
        }
      }
    }
  },
  "nbformat": 4,
  "nbformat_minor": 0
}